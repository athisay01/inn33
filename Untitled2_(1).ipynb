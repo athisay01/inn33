{
  "cells": [
    {
      "cell_type": "code",
      "execution_count": null,
      "id": "4cbd9410",
      "metadata": {
        "id": "4cbd9410"
      },
      "outputs": [],
      "source": [
        "import pandas as pd\n",
        "import numpy as np\n",
        "import matplotlib.pyplot as plt\n",
        "import seaborn as sns"
      ]
    },
    {
      "cell_type": "code",
      "execution_count": null,
      "id": "4c1c2cdc",
      "metadata": {
        "id": "4c1c2cdc"
      },
      "outputs": [],
      "source": [
        "data = pd.read_csv(r'C:\\Users\\User\\Desktop\\Untitled Folder\\diabetes.csv')"
      ]
    },
    {
      "cell_type": "code",
      "execution_count": null,
      "id": "6c80616e",
      "metadata": {
        "scrolled": true,
        "id": "6c80616e",
        "outputId": "4dcccfa6-93e4-4bf8-fd13-e60d5284902e"
      },
      "outputs": [
        {
          "data": {
            "text/html": [
              "<div>\n",
              "<style scoped>\n",
              "    .dataframe tbody tr th:only-of-type {\n",
              "        vertical-align: middle;\n",
              "    }\n",
              "\n",
              "    .dataframe tbody tr th {\n",
              "        vertical-align: top;\n",
              "    }\n",
              "\n",
              "    .dataframe thead th {\n",
              "        text-align: right;\n",
              "    }\n",
              "</style>\n",
              "<table border=\"1\" class=\"dataframe\">\n",
              "  <thead>\n",
              "    <tr style=\"text-align: right;\">\n",
              "      <th></th>\n",
              "      <th>Pregnancies</th>\n",
              "      <th>Glucose</th>\n",
              "      <th>BloodPressure</th>\n",
              "      <th>SkinThickness</th>\n",
              "      <th>Insulin</th>\n",
              "      <th>BMI</th>\n",
              "      <th>DiabetesPedigreeFunction</th>\n",
              "      <th>Age</th>\n",
              "      <th>Outcome</th>\n",
              "    </tr>\n",
              "  </thead>\n",
              "  <tbody>\n",
              "    <tr>\n",
              "      <th>0</th>\n",
              "      <td>6</td>\n",
              "      <td>148</td>\n",
              "      <td>72</td>\n",
              "      <td>35</td>\n",
              "      <td>0</td>\n",
              "      <td>33.6</td>\n",
              "      <td>0.627</td>\n",
              "      <td>50</td>\n",
              "      <td>1</td>\n",
              "    </tr>\n",
              "    <tr>\n",
              "      <th>1</th>\n",
              "      <td>1</td>\n",
              "      <td>85</td>\n",
              "      <td>66</td>\n",
              "      <td>29</td>\n",
              "      <td>0</td>\n",
              "      <td>26.6</td>\n",
              "      <td>0.351</td>\n",
              "      <td>31</td>\n",
              "      <td>0</td>\n",
              "    </tr>\n",
              "    <tr>\n",
              "      <th>2</th>\n",
              "      <td>8</td>\n",
              "      <td>183</td>\n",
              "      <td>64</td>\n",
              "      <td>0</td>\n",
              "      <td>0</td>\n",
              "      <td>23.3</td>\n",
              "      <td>0.672</td>\n",
              "      <td>32</td>\n",
              "      <td>1</td>\n",
              "    </tr>\n",
              "    <tr>\n",
              "      <th>3</th>\n",
              "      <td>1</td>\n",
              "      <td>89</td>\n",
              "      <td>66</td>\n",
              "      <td>23</td>\n",
              "      <td>94</td>\n",
              "      <td>28.1</td>\n",
              "      <td>0.167</td>\n",
              "      <td>21</td>\n",
              "      <td>0</td>\n",
              "    </tr>\n",
              "    <tr>\n",
              "      <th>4</th>\n",
              "      <td>0</td>\n",
              "      <td>137</td>\n",
              "      <td>40</td>\n",
              "      <td>35</td>\n",
              "      <td>168</td>\n",
              "      <td>43.1</td>\n",
              "      <td>2.288</td>\n",
              "      <td>33</td>\n",
              "      <td>1</td>\n",
              "    </tr>\n",
              "  </tbody>\n",
              "</table>\n",
              "</div>"
            ],
            "text/plain": [
              "   Pregnancies  Glucose  BloodPressure  SkinThickness  Insulin   BMI  \\\n",
              "0            6      148             72             35        0  33.6   \n",
              "1            1       85             66             29        0  26.6   \n",
              "2            8      183             64              0        0  23.3   \n",
              "3            1       89             66             23       94  28.1   \n",
              "4            0      137             40             35      168  43.1   \n",
              "\n",
              "   DiabetesPedigreeFunction  Age  Outcome  \n",
              "0                     0.627   50        1  \n",
              "1                     0.351   31        0  \n",
              "2                     0.672   32        1  \n",
              "3                     0.167   21        0  \n",
              "4                     2.288   33        1  "
            ]
          },
          "execution_count": 3,
          "metadata": {},
          "output_type": "execute_result"
        }
      ],
      "source": [
        "data.head()"
      ]
    },
    {
      "cell_type": "code",
      "execution_count": null,
      "id": "46113c6f",
      "metadata": {
        "id": "46113c6f",
        "outputId": "65ddeb94-e4bc-418e-a5e1-421d97044c11"
      },
      "outputs": [
        {
          "data": {
            "text/plain": [
              "Pregnancies                 0\n",
              "Glucose                     0\n",
              "BloodPressure               0\n",
              "SkinThickness               0\n",
              "Insulin                     0\n",
              "BMI                         0\n",
              "DiabetesPedigreeFunction    0\n",
              "Age                         0\n",
              "Outcome                     0\n",
              "dtype: int64"
            ]
          },
          "execution_count": 4,
          "metadata": {},
          "output_type": "execute_result"
        }
      ],
      "source": [
        "data.isna().sum()"
      ]
    },
    {
      "cell_type": "markdown",
      "id": "abb89ffa",
      "metadata": {
        "id": "abb89ffa"
      },
      "source": [
        "# Finding NAN values"
      ]
    },
    {
      "cell_type": "code",
      "execution_count": null,
      "id": "fea81611",
      "metadata": {
        "id": "fea81611",
        "outputId": "47c35f43-8da6-4023-c0eb-dc9dc2fb6c23"
      },
      "outputs": [
        {
          "data": {
            "text/html": [
              "<div>\n",
              "<style scoped>\n",
              "    .dataframe tbody tr th:only-of-type {\n",
              "        vertical-align: middle;\n",
              "    }\n",
              "\n",
              "    .dataframe tbody tr th {\n",
              "        vertical-align: top;\n",
              "    }\n",
              "\n",
              "    .dataframe thead th {\n",
              "        text-align: right;\n",
              "    }\n",
              "</style>\n",
              "<table border=\"1\" class=\"dataframe\">\n",
              "  <thead>\n",
              "    <tr style=\"text-align: right;\">\n",
              "      <th></th>\n",
              "      <th>Pregnancies</th>\n",
              "      <th>Glucose</th>\n",
              "      <th>BloodPressure</th>\n",
              "      <th>SkinThickness</th>\n",
              "      <th>Insulin</th>\n",
              "      <th>BMI</th>\n",
              "      <th>DiabetesPedigreeFunction</th>\n",
              "      <th>Age</th>\n",
              "      <th>Outcome</th>\n",
              "    </tr>\n",
              "  </thead>\n",
              "  <tbody>\n",
              "    <tr>\n",
              "      <th>0</th>\n",
              "      <td>6</td>\n",
              "      <td>148</td>\n",
              "      <td>72</td>\n",
              "      <td>35</td>\n",
              "      <td>0</td>\n",
              "      <td>33.6</td>\n",
              "      <td>0.627</td>\n",
              "      <td>50</td>\n",
              "      <td>1</td>\n",
              "    </tr>\n",
              "    <tr>\n",
              "      <th>1</th>\n",
              "      <td>1</td>\n",
              "      <td>85</td>\n",
              "      <td>66</td>\n",
              "      <td>29</td>\n",
              "      <td>0</td>\n",
              "      <td>26.6</td>\n",
              "      <td>0.351</td>\n",
              "      <td>31</td>\n",
              "      <td>0</td>\n",
              "    </tr>\n",
              "    <tr>\n",
              "      <th>2</th>\n",
              "      <td>8</td>\n",
              "      <td>183</td>\n",
              "      <td>64</td>\n",
              "      <td>0</td>\n",
              "      <td>0</td>\n",
              "      <td>23.3</td>\n",
              "      <td>0.672</td>\n",
              "      <td>32</td>\n",
              "      <td>1</td>\n",
              "    </tr>\n",
              "    <tr>\n",
              "      <th>4</th>\n",
              "      <td>0</td>\n",
              "      <td>137</td>\n",
              "      <td>40</td>\n",
              "      <td>35</td>\n",
              "      <td>168</td>\n",
              "      <td>43.1</td>\n",
              "      <td>2.288</td>\n",
              "      <td>33</td>\n",
              "      <td>1</td>\n",
              "    </tr>\n",
              "    <tr>\n",
              "      <th>5</th>\n",
              "      <td>5</td>\n",
              "      <td>116</td>\n",
              "      <td>74</td>\n",
              "      <td>0</td>\n",
              "      <td>0</td>\n",
              "      <td>25.6</td>\n",
              "      <td>0.201</td>\n",
              "      <td>30</td>\n",
              "      <td>0</td>\n",
              "    </tr>\n",
              "    <tr>\n",
              "      <th>...</th>\n",
              "      <td>...</td>\n",
              "      <td>...</td>\n",
              "      <td>...</td>\n",
              "      <td>...</td>\n",
              "      <td>...</td>\n",
              "      <td>...</td>\n",
              "      <td>...</td>\n",
              "      <td>...</td>\n",
              "      <td>...</td>\n",
              "    </tr>\n",
              "    <tr>\n",
              "      <th>761</th>\n",
              "      <td>9</td>\n",
              "      <td>170</td>\n",
              "      <td>74</td>\n",
              "      <td>31</td>\n",
              "      <td>0</td>\n",
              "      <td>44.0</td>\n",
              "      <td>0.403</td>\n",
              "      <td>43</td>\n",
              "      <td>1</td>\n",
              "    </tr>\n",
              "    <tr>\n",
              "      <th>762</th>\n",
              "      <td>9</td>\n",
              "      <td>89</td>\n",
              "      <td>62</td>\n",
              "      <td>0</td>\n",
              "      <td>0</td>\n",
              "      <td>22.5</td>\n",
              "      <td>0.142</td>\n",
              "      <td>33</td>\n",
              "      <td>0</td>\n",
              "    </tr>\n",
              "    <tr>\n",
              "      <th>764</th>\n",
              "      <td>2</td>\n",
              "      <td>122</td>\n",
              "      <td>70</td>\n",
              "      <td>27</td>\n",
              "      <td>0</td>\n",
              "      <td>36.8</td>\n",
              "      <td>0.340</td>\n",
              "      <td>27</td>\n",
              "      <td>0</td>\n",
              "    </tr>\n",
              "    <tr>\n",
              "      <th>766</th>\n",
              "      <td>1</td>\n",
              "      <td>126</td>\n",
              "      <td>60</td>\n",
              "      <td>0</td>\n",
              "      <td>0</td>\n",
              "      <td>30.1</td>\n",
              "      <td>0.349</td>\n",
              "      <td>47</td>\n",
              "      <td>1</td>\n",
              "    </tr>\n",
              "    <tr>\n",
              "      <th>767</th>\n",
              "      <td>1</td>\n",
              "      <td>93</td>\n",
              "      <td>70</td>\n",
              "      <td>31</td>\n",
              "      <td>0</td>\n",
              "      <td>30.4</td>\n",
              "      <td>0.315</td>\n",
              "      <td>23</td>\n",
              "      <td>0</td>\n",
              "    </tr>\n",
              "  </tbody>\n",
              "</table>\n",
              "<p>432 rows × 9 columns</p>\n",
              "</div>"
            ],
            "text/plain": [
              "     Pregnancies  Glucose  BloodPressure  SkinThickness  Insulin   BMI  \\\n",
              "0              6      148             72             35        0  33.6   \n",
              "1              1       85             66             29        0  26.6   \n",
              "2              8      183             64              0        0  23.3   \n",
              "4              0      137             40             35      168  43.1   \n",
              "5              5      116             74              0        0  25.6   \n",
              "..           ...      ...            ...            ...      ...   ...   \n",
              "761            9      170             74             31        0  44.0   \n",
              "762            9       89             62              0        0  22.5   \n",
              "764            2      122             70             27        0  36.8   \n",
              "766            1      126             60              0        0  30.1   \n",
              "767            1       93             70             31        0  30.4   \n",
              "\n",
              "     DiabetesPedigreeFunction  Age  Outcome  \n",
              "0                       0.627   50        1  \n",
              "1                       0.351   31        0  \n",
              "2                       0.672   32        1  \n",
              "4                       2.288   33        1  \n",
              "5                       0.201   30        0  \n",
              "..                        ...  ...      ...  \n",
              "761                     0.403   43        1  \n",
              "762                     0.142   33        0  \n",
              "764                     0.340   27        0  \n",
              "766                     0.349   47        1  \n",
              "767                     0.315   23        0  \n",
              "\n",
              "[432 rows x 9 columns]"
            ]
          },
          "execution_count": 5,
          "metadata": {},
          "output_type": "execute_result"
        }
      ],
      "source": [
        "data[(data['Pregnancies']==0) | (data['Glucose']==0) | (data['BloodPressure']==0) | (data['SkinThickness']==0) | (data['Insulin']==0) | (data['BMI']==0) | (data['DiabetesPedigreeFunction']==0) | (data['Age']==0)]"
      ]
    },
    {
      "cell_type": "code",
      "execution_count": null,
      "id": "56980ac9",
      "metadata": {
        "id": "56980ac9"
      },
      "outputs": [],
      "source": [
        "y = data['Outcome']"
      ]
    },
    {
      "cell_type": "code",
      "execution_count": null,
      "id": "a0033c1b",
      "metadata": {
        "id": "a0033c1b"
      },
      "outputs": [],
      "source": [
        "data['Pregnancies'].replace(0,np.nan,inplace=True)"
      ]
    },
    {
      "cell_type": "code",
      "execution_count": null,
      "id": "4bf0cb1d",
      "metadata": {
        "id": "4bf0cb1d"
      },
      "outputs": [],
      "source": [
        "data['Glucose'].replace(0,np.nan,inplace=True)"
      ]
    },
    {
      "cell_type": "code",
      "execution_count": null,
      "id": "b4efd947",
      "metadata": {
        "id": "b4efd947"
      },
      "outputs": [],
      "source": [
        "data['BloodPressure'].replace(0,np.nan,inplace=True)"
      ]
    },
    {
      "cell_type": "code",
      "execution_count": null,
      "id": "dee58d80",
      "metadata": {
        "id": "dee58d80"
      },
      "outputs": [],
      "source": [
        "data['SkinThickness'].replace(0,np.nan,inplace=True)"
      ]
    },
    {
      "cell_type": "code",
      "execution_count": null,
      "id": "d5559c1a",
      "metadata": {
        "id": "d5559c1a"
      },
      "outputs": [],
      "source": [
        "data['Insulin'].replace(0,np.nan,inplace=True)"
      ]
    },
    {
      "cell_type": "code",
      "execution_count": null,
      "id": "5a78fba3",
      "metadata": {
        "id": "5a78fba3"
      },
      "outputs": [],
      "source": [
        "data['BMI'].replace(0,np.nan,inplace=True)"
      ]
    },
    {
      "cell_type": "code",
      "execution_count": null,
      "id": "d5b313c7",
      "metadata": {
        "id": "d5b313c7"
      },
      "outputs": [],
      "source": [
        "data['DiabetesPedigreeFunction'].replace(0,np.nan,inplace=True)"
      ]
    },
    {
      "cell_type": "code",
      "execution_count": null,
      "id": "43d9f7d3",
      "metadata": {
        "id": "43d9f7d3",
        "outputId": "d3a6074c-3d3a-4b2b-d1e2-2452c98c8d8a"
      },
      "outputs": [
        {
          "data": {
            "text/plain": [
              "Pregnancies                 111\n",
              "Glucose                       5\n",
              "BloodPressure                35\n",
              "SkinThickness               227\n",
              "Insulin                     374\n",
              "BMI                          11\n",
              "DiabetesPedigreeFunction      0\n",
              "Age                           0\n",
              "Outcome                       0\n",
              "dtype: int64"
            ]
          },
          "execution_count": 14,
          "metadata": {},
          "output_type": "execute_result"
        }
      ],
      "source": [
        "data.isna().sum()"
      ]
    },
    {
      "cell_type": "markdown",
      "id": "472f75cb",
      "metadata": {
        "id": "472f75cb"
      },
      "source": [
        "# Ploting"
      ]
    },
    {
      "cell_type": "code",
      "execution_count": null,
      "id": "0a373482",
      "metadata": {
        "id": "0a373482",
        "outputId": "42047ac9-547d-491d-e8d6-9397d9b0d06c"
      },
      "outputs": [
        {
          "data": {
            "text/plain": [
              "Pregnancies                 float64\n",
              "Glucose                     float64\n",
              "BloodPressure               float64\n",
              "SkinThickness               float64\n",
              "Insulin                     float64\n",
              "BMI                         float64\n",
              "DiabetesPedigreeFunction    float64\n",
              "Age                           int64\n",
              "Outcome                       int64\n",
              "dtype: object"
            ]
          },
          "execution_count": 15,
          "metadata": {},
          "output_type": "execute_result"
        }
      ],
      "source": [
        "data.dtypes"
      ]
    },
    {
      "cell_type": "code",
      "execution_count": null,
      "id": "e7197c4b",
      "metadata": {
        "id": "e7197c4b",
        "outputId": "22cbaf64-e1f5-4396-e94f-7a879ca5d3f4"
      },
      "outputs": [
        {
          "data": {
            "image/png": "[encoded data removed]",
            "text/plain": [
              "<Figure size 640x480 with 1 Axes>"
            ]
          },
          "metadata": {},
          "output_type": "display_data"
        }
      ],
      "source": [
        "plt.hist(data['Pregnancies'])\n",
        "plt.show()"
      ]
    },
    {
      "cell_type": "code",
      "execution_count": null,
      "id": "df087ee9",
      "metadata": {
        "id": "df087ee9",
        "outputId": "ff68696b-0b76-4f35-c9a3-7de080719f1a"
      },
      "outputs": [
        {
          "data": {
            "image/png": "[encoded data removed]",
            "text/plain": [
              "<Figure size 640x480 with 1 Axes>"
            ]
          },
          "metadata": {},
          "output_type": "display_data"
        }
      ],
      "source": [
        "plt.hist(data['Glucose'])\n",
        "plt.show()"
      ]
    },
    {
      "cell_type": "code",
      "execution_count": null,
      "id": "e31c898e",
      "metadata": {
        "id": "e31c898e",
        "outputId": "18c9d2f2-d615-47d7-83cd-e85b2196c780"
      },
      "outputs": [
        {
          "data": {
            "image/png": "[encoded data removed]",
            "text/plain": [
              "<Figure size 640x480 with 1 Axes>"
            ]
          },
          "metadata": {},
          "output_type": "display_data"
        }
      ],
      "source": [
        "plt.hist(data['BloodPressure'])\n",
        "plt.show()"
      ]
    },
    {
      "cell_type": "code",
      "execution_count": null,
      "id": "5b235e6f",
      "metadata": {
        "id": "5b235e6f",
        "outputId": "9192cb33-89c2-4432-9e62-5fb7043644a4"
      },
      "outputs": [
        {
          "data": {
            "image/png": "[encoded data removed]",
            "text/plain": [
              "<Figure size 640x480 with 1 Axes>"
            ]
          },
          "metadata": {},
          "output_type": "display_data"
        }
      ],
      "source": [
        "plt.hist(data['SkinThickness'])\n",
        "plt.show()"
      ]
    },
    {
      "cell_type": "code",
      "execution_count": null,
      "id": "14ab9d50",
      "metadata": {
        "id": "14ab9d50",
        "outputId": "44b2714d-50fa-411a-857a-2791e0aaae8e"
      },
      "outputs": [
        {
          "data": {
            "image/png": "[encoded data removed]",
            "text/plain": [
              "<Figure size 640x480 with 1 Axes>"
            ]
          },
          "metadata": {},
          "output_type": "display_data"
        }
      ],
      "source": [
        "plt.hist(data['Insulin'])\n",
        "plt.show()"
      ]
    },
    {
      "cell_type": "code",
      "execution_count": null,
      "id": "eff836b7",
      "metadata": {
        "id": "eff836b7",
        "outputId": "89e374b8-38d9-4f1b-858a-ffceb9d5e4ec"
      },
      "outputs": [
        {
          "data": {
            "image/png": "[encoded data removed]",
            "text/plain": [
              "<Figure size 640x480 with 1 Axes>"
            ]
          },
          "metadata": {},
          "output_type": "display_data"
        }
      ],
      "source": [
        "plt.hist(data['BMI'])\n",
        "plt.show()"
      ]
    },
    {
      "cell_type": "code",
      "execution_count": null,
      "id": "d4907ceb",
      "metadata": {
        "id": "d4907ceb",
        "outputId": "192b0d00-f4a3-45c7-f5b1-993a3d53bae0"
      },
      "outputs": [
        {
          "data": {
            "image/png": "[encoded data removed]",
            "text/plain": [
              "<Figure size 640x480 with 1 Axes>"
            ]
          },
          "metadata": {},
          "output_type": "display_data"
        }
      ],
      "source": [
        "plt.hist(data['DiabetesPedigreeFunction'])\n",
        "plt.show()"
      ]
    },
    {
      "cell_type": "markdown",
      "id": "78446599",
      "metadata": {
        "id": "78446599"
      },
      "source": [
        "# Replacing NaN"
      ]
    },
    {
      "cell_type": "code",
      "execution_count": null,
      "id": "0c11adb6",
      "metadata": {
        "id": "0c11adb6"
      },
      "outputs": [],
      "source": [
        "data['Pregnancies'] = data['Pregnancies'].fillna(data['Pregnancies'].median())\n",
        "data['Glucose'] = data['Glucose'].fillna(data['Glucose'].mean())\n",
        "data['BloodPressure'] = data['BloodPressure'].fillna(data['BloodPressure'].mean())\n",
        "data['SkinThickness'] = data['SkinThickness'].fillna(data['SkinThickness'].median())\n",
        "data['Insulin'] = data['Insulin'].fillna(data['Insulin'].median())\n",
        "data['BMI'] = data['BMI'].fillna(data['BMI'].median())\n",
        "data['DiabetesPedigreeFunction'] = data['DiabetesPedigreeFunction'].fillna(data['DiabetesPedigreeFunction'].median())\n"
      ]
    },
    {
      "cell_type": "code",
      "execution_count": null,
      "id": "e3ad7461",
      "metadata": {
        "id": "e3ad7461",
        "outputId": "7a57339e-a0d5-4b81-b7f1-a2af9d15f3b4"
      },
      "outputs": [
        {
          "data": {
            "text/html": [
              "<div>\n",
              "<style scoped>\n",
              "    .dataframe tbody tr th:only-of-type {\n",
              "        vertical-align: middle;\n",
              "    }\n",
              "\n",
              "    .dataframe tbody tr th {\n",
              "        vertical-align: top;\n",
              "    }\n",
              "\n",
              "    .dataframe thead th {\n",
              "        text-align: right;\n",
              "    }\n",
              "</style>\n",
              "<table border=\"1\" class=\"dataframe\">\n",
              "  <thead>\n",
              "    <tr style=\"text-align: right;\">\n",
              "      <th></th>\n",
              "      <th>Pregnancies</th>\n",
              "      <th>Glucose</th>\n",
              "      <th>BloodPressure</th>\n",
              "      <th>SkinThickness</th>\n",
              "      <th>Insulin</th>\n",
              "      <th>BMI</th>\n",
              "      <th>DiabetesPedigreeFunction</th>\n",
              "      <th>Age</th>\n",
              "      <th>Outcome</th>\n",
              "    </tr>\n",
              "  </thead>\n",
              "  <tbody>\n",
              "    <tr>\n",
              "      <th>0</th>\n",
              "      <td>6.0</td>\n",
              "      <td>148.0</td>\n",
              "      <td>72.0</td>\n",
              "      <td>35.0</td>\n",
              "      <td>125.0</td>\n",
              "      <td>33.6</td>\n",
              "      <td>0.627</td>\n",
              "      <td>50</td>\n",
              "      <td>1</td>\n",
              "    </tr>\n",
              "    <tr>\n",
              "      <th>1</th>\n",
              "      <td>1.0</td>\n",
              "      <td>85.0</td>\n",
              "      <td>66.0</td>\n",
              "      <td>29.0</td>\n",
              "      <td>125.0</td>\n",
              "      <td>26.6</td>\n",
              "      <td>0.351</td>\n",
              "      <td>31</td>\n",
              "      <td>0</td>\n",
              "    </tr>\n",
              "    <tr>\n",
              "      <th>2</th>\n",
              "      <td>8.0</td>\n",
              "      <td>183.0</td>\n",
              "      <td>64.0</td>\n",
              "      <td>29.0</td>\n",
              "      <td>125.0</td>\n",
              "      <td>23.3</td>\n",
              "      <td>0.672</td>\n",
              "      <td>32</td>\n",
              "      <td>1</td>\n",
              "    </tr>\n",
              "    <tr>\n",
              "      <th>3</th>\n",
              "      <td>1.0</td>\n",
              "      <td>89.0</td>\n",
              "      <td>66.0</td>\n",
              "      <td>23.0</td>\n",
              "      <td>94.0</td>\n",
              "      <td>28.1</td>\n",
              "      <td>0.167</td>\n",
              "      <td>21</td>\n",
              "      <td>0</td>\n",
              "    </tr>\n",
              "    <tr>\n",
              "      <th>4</th>\n",
              "      <td>4.0</td>\n",
              "      <td>137.0</td>\n",
              "      <td>40.0</td>\n",
              "      <td>35.0</td>\n",
              "      <td>168.0</td>\n",
              "      <td>43.1</td>\n",
              "      <td>2.288</td>\n",
              "      <td>33</td>\n",
              "      <td>1</td>\n",
              "    </tr>\n",
              "  </tbody>\n",
              "</table>\n",
              "</div>"
            ],
            "text/plain": [
              "   Pregnancies  Glucose  BloodPressure  SkinThickness  Insulin   BMI  \\\n",
              "0          6.0    148.0           72.0           35.0    125.0  33.6   \n",
              "1          1.0     85.0           66.0           29.0    125.0  26.6   \n",
              "2          8.0    183.0           64.0           29.0    125.0  23.3   \n",
              "3          1.0     89.0           66.0           23.0     94.0  28.1   \n",
              "4          4.0    137.0           40.0           35.0    168.0  43.1   \n",
              "\n",
              "   DiabetesPedigreeFunction  Age  Outcome  \n",
              "0                     0.627   50        1  \n",
              "1                     0.351   31        0  \n",
              "2                     0.672   32        1  \n",
              "3                     0.167   21        0  \n",
              "4                     2.288   33        1  "
            ]
          },
          "execution_count": 24,
          "metadata": {},
          "output_type": "execute_result"
        }
      ],
      "source": [
        "data.head()"
      ]
    },
    {
      "cell_type": "code",
      "execution_count": null,
      "id": "6fcb0bf8",
      "metadata": {
        "id": "6fcb0bf8",
        "outputId": "14bd28d8-32a2-45f3-b6e4-42db46783e17"
      },
      "outputs": [
        {
          "data": {
            "text/plain": [
              "Pregnancies                 0\n",
              "Glucose                     0\n",
              "BloodPressure               0\n",
              "SkinThickness               0\n",
              "Insulin                     0\n",
              "BMI                         0\n",
              "DiabetesPedigreeFunction    0\n",
              "Age                         0\n",
              "Outcome                     0\n",
              "dtype: int64"
            ]
          },
          "execution_count": 25,
          "metadata": {},
          "output_type": "execute_result"
        }
      ],
      "source": [
        "data.isna().sum()"
      ]
    },
    {
      "cell_type": "markdown",
      "id": "e363b8fb",
      "metadata": {
        "id": "e363b8fb"
      },
      "source": [
        "# outlayers"
      ]
    },
    {
      "cell_type": "code",
      "execution_count": null,
      "id": "974d6e49",
      "metadata": {
        "id": "974d6e49",
        "outputId": "8b26ce52-4f6d-437d-ccb5-5aa3231c7897"
      },
      "outputs": [
        {
          "data": {
            "image/png": "[encoded data removed]",
            "text/plain": [
              "<Figure size 640x480 with 1 Axes>"
            ]
          },
          "metadata": {},
          "output_type": "display_data"
        }
      ],
      "source": [
        "plt.boxplot(data['Pregnancies'])\n",
        "plt.show()"
      ]
    },
    {
      "cell_type": "code",
      "execution_count": null,
      "id": "6a78a72e",
      "metadata": {
        "id": "6a78a72e",
        "outputId": "f99f2910-b6e6-4381-e434-76a76dd95241"
      },
      "outputs": [
        {
          "data": {
            "image/png": "[encoded data removed]",
            "text/plain": [
              "<Figure size 640x480 with 1 Axes>"
            ]
          },
          "metadata": {},
          "output_type": "display_data"
        }
      ],
      "source": [
        "plt.boxplot(data['Glucose'])\n",
        "plt.show()"
      ]
    },
    {
      "cell_type": "code",
      "execution_count": null,
      "id": "3b799714",
      "metadata": {
        "id": "3b799714",
        "outputId": "3e82bb24-2b2d-406e-86ad-83fe1c16d176"
      },
      "outputs": [
        {
          "data": {
            "image/png": "[encoded data removed]",
            "text/plain": [
              "<Figure size 640x480 with 1 Axes>"
            ]
          },
          "metadata": {},
          "output_type": "display_data"
        }
      ],
      "source": [
        "plt.boxplot(data['BloodPressure'])\n",
        "plt.show()"
      ]
    },
    {
      "cell_type": "code",
      "execution_count": null,
      "id": "7b6833b1",
      "metadata": {
        "id": "7b6833b1",
        "outputId": "656c494f-06ce-43d9-8fd1-dbad9aeb70a5"
      },
      "outputs": [
        {
          "data": {
            "image/png": "[encoded data removed]",
            "text/plain": [
              "<Figure size 640x480 with 1 Axes>"
            ]
          },
          "metadata": {},
          "output_type": "display_data"
        }
      ],
      "source": [
        "plt.boxplot(data['SkinThickness'])\n",
        "plt.show()"
      ]
    },
    {
      "cell_type": "code",
      "execution_count": null,
      "id": "74b4a3c7",
      "metadata": {
        "id": "74b4a3c7",
        "outputId": "01b18f28-92db-4e89-f7a0-d45e7db1811d"
      },
      "outputs": [
        {
          "data": {
            "image/png": "[encoded data removed]",
            "text/plain": [
              "<Figure size 640x480 with 1 Axes>"
            ]
          },
          "metadata": {},
          "output_type": "display_data"
        }
      ],
      "source": [
        "plt.boxplot(data['Insulin'])\n",
        "plt.show()"
      ]
    },
    {
      "cell_type": "code",
      "execution_count": null,
      "id": "8c8dc342",
      "metadata": {
        "id": "8c8dc342",
        "outputId": "8be259f1-ec3a-4d7e-e01d-f2b4b0e82e4d"
      },
      "outputs": [
        {
          "data": {
            "image/png": "[encoded data removed]",
            "text/plain": [
              "<Figure size 640x480 with 1 Axes>"
            ]
          },
          "metadata": {},
          "output_type": "display_data"
        }
      ],
      "source": [
        "plt.boxplot(data['BMI'])\n",
        "plt.show()"
      ]
    },
    {
      "cell_type": "code",
      "execution_count": null,
      "id": "6f1d607d",
      "metadata": {
        "id": "6f1d607d",
        "outputId": "b4d6effc-592f-4c1d-ded3-df8ebec196bc"
      },
      "outputs": [
        {
          "data": {
            "image/png": "[encoded data removed]",
            "text/plain": [
              "<Figure size 640x480 with 1 Axes>"
            ]
          },
          "metadata": {},
          "output_type": "display_data"
        }
      ],
      "source": [
        "plt.boxplot(data['DiabetesPedigreeFunction'])\n",
        "plt.show()"
      ]
    },
    {
      "cell_type": "code",
      "execution_count": null,
      "id": "270ba7d5",
      "metadata": {
        "id": "270ba7d5"
      },
      "outputs": [],
      "source": [
        "y = data['Outcome']\n",
        "x = data.drop(['Outcome'],axis=1)"
      ]
    },
    {
      "cell_type": "markdown",
      "id": "1b5d4b34",
      "metadata": {
        "id": "1b5d4b34"
      },
      "source": [
        "# Classification models"
      ]
    },
    {
      "cell_type": "code",
      "execution_count": null,
      "id": "10420e04",
      "metadata": {
        "id": "10420e04"
      },
      "outputs": [],
      "source": [
        "x= pd.get_dummies(x,dtype=int)"
      ]
    },
    {
      "cell_type": "code",
      "execution_count": null,
      "id": "d5d5845c",
      "metadata": {
        "id": "d5d5845c"
      },
      "outputs": [],
      "source": [
        "from sklearn.model_selection import train_test_split\n",
        "x_train,x_test,y_train,y_test = train_test_split(x,y,test_size=0.2,random_state=42)"
      ]
    },
    {
      "cell_type": "code",
      "execution_count": null,
      "id": "69e57890",
      "metadata": {
        "id": "69e57890",
        "outputId": "6d75cc42-8c2c-4a70-b1b0-6c65cdb451d0"
      },
      "outputs": [
        {
          "data": {
            "text/html": [
              "<div>\n",
              "<style scoped>\n",
              "    .dataframe tbody tr th:only-of-type {\n",
              "        vertical-align: middle;\n",
              "    }\n",
              "\n",
              "    .dataframe tbody tr th {\n",
              "        vertical-align: top;\n",
              "    }\n",
              "\n",
              "    .dataframe thead th {\n",
              "        text-align: right;\n",
              "    }\n",
              "</style>\n",
              "<table border=\"1\" class=\"dataframe\">\n",
              "  <thead>\n",
              "    <tr style=\"text-align: right;\">\n",
              "      <th></th>\n",
              "      <th>Pregnancies</th>\n",
              "      <th>Glucose</th>\n",
              "      <th>BloodPressure</th>\n",
              "      <th>SkinThickness</th>\n",
              "      <th>Insulin</th>\n",
              "      <th>BMI</th>\n",
              "      <th>DiabetesPedigreeFunction</th>\n",
              "      <th>Age</th>\n",
              "    </tr>\n",
              "  </thead>\n",
              "  <tbody>\n",
              "    <tr>\n",
              "      <th>60</th>\n",
              "      <td>2.0</td>\n",
              "      <td>84.0</td>\n",
              "      <td>72.405184</td>\n",
              "      <td>29.0</td>\n",
              "      <td>125.0</td>\n",
              "      <td>32.3</td>\n",
              "      <td>0.304</td>\n",
              "      <td>21</td>\n",
              "    </tr>\n",
              "    <tr>\n",
              "      <th>618</th>\n",
              "      <td>9.0</td>\n",
              "      <td>112.0</td>\n",
              "      <td>82.000000</td>\n",
              "      <td>24.0</td>\n",
              "      <td>125.0</td>\n",
              "      <td>28.2</td>\n",
              "      <td>1.282</td>\n",
              "      <td>50</td>\n",
              "    </tr>\n",
              "    <tr>\n",
              "      <th>346</th>\n",
              "      <td>1.0</td>\n",
              "      <td>139.0</td>\n",
              "      <td>46.000000</td>\n",
              "      <td>19.0</td>\n",
              "      <td>83.0</td>\n",
              "      <td>28.7</td>\n",
              "      <td>0.654</td>\n",
              "      <td>22</td>\n",
              "    </tr>\n",
              "    <tr>\n",
              "      <th>294</th>\n",
              "      <td>4.0</td>\n",
              "      <td>161.0</td>\n",
              "      <td>50.000000</td>\n",
              "      <td>29.0</td>\n",
              "      <td>125.0</td>\n",
              "      <td>21.9</td>\n",
              "      <td>0.254</td>\n",
              "      <td>65</td>\n",
              "    </tr>\n",
              "    <tr>\n",
              "      <th>231</th>\n",
              "      <td>6.0</td>\n",
              "      <td>134.0</td>\n",
              "      <td>80.000000</td>\n",
              "      <td>37.0</td>\n",
              "      <td>370.0</td>\n",
              "      <td>46.2</td>\n",
              "      <td>0.238</td>\n",
              "      <td>46</td>\n",
              "    </tr>\n",
              "    <tr>\n",
              "      <th>...</th>\n",
              "      <td>...</td>\n",
              "      <td>...</td>\n",
              "      <td>...</td>\n",
              "      <td>...</td>\n",
              "      <td>...</td>\n",
              "      <td>...</td>\n",
              "      <td>...</td>\n",
              "      <td>...</td>\n",
              "    </tr>\n",
              "    <tr>\n",
              "      <th>71</th>\n",
              "      <td>5.0</td>\n",
              "      <td>139.0</td>\n",
              "      <td>64.000000</td>\n",
              "      <td>35.0</td>\n",
              "      <td>140.0</td>\n",
              "      <td>28.6</td>\n",
              "      <td>0.411</td>\n",
              "      <td>26</td>\n",
              "    </tr>\n",
              "    <tr>\n",
              "      <th>106</th>\n",
              "      <td>1.0</td>\n",
              "      <td>96.0</td>\n",
              "      <td>122.000000</td>\n",
              "      <td>29.0</td>\n",
              "      <td>125.0</td>\n",
              "      <td>22.4</td>\n",
              "      <td>0.207</td>\n",
              "      <td>27</td>\n",
              "    </tr>\n",
              "    <tr>\n",
              "      <th>270</th>\n",
              "      <td>10.0</td>\n",
              "      <td>101.0</td>\n",
              "      <td>86.000000</td>\n",
              "      <td>37.0</td>\n",
              "      <td>125.0</td>\n",
              "      <td>45.6</td>\n",
              "      <td>1.136</td>\n",
              "      <td>38</td>\n",
              "    </tr>\n",
              "    <tr>\n",
              "      <th>435</th>\n",
              "      <td>4.0</td>\n",
              "      <td>141.0</td>\n",
              "      <td>72.405184</td>\n",
              "      <td>29.0</td>\n",
              "      <td>125.0</td>\n",
              "      <td>42.4</td>\n",
              "      <td>0.205</td>\n",
              "      <td>29</td>\n",
              "    </tr>\n",
              "    <tr>\n",
              "      <th>102</th>\n",
              "      <td>4.0</td>\n",
              "      <td>125.0</td>\n",
              "      <td>96.000000</td>\n",
              "      <td>29.0</td>\n",
              "      <td>125.0</td>\n",
              "      <td>22.5</td>\n",
              "      <td>0.262</td>\n",
              "      <td>21</td>\n",
              "    </tr>\n",
              "  </tbody>\n",
              "</table>\n",
              "<p>614 rows × 8 columns</p>\n",
              "</div>"
            ],
            "text/plain": [
              "     Pregnancies  Glucose  BloodPressure  SkinThickness  Insulin   BMI  \\\n",
              "60           2.0     84.0      72.405184           29.0    125.0  32.3   \n",
              "618          9.0    112.0      82.000000           24.0    125.0  28.2   \n",
              "346          1.0    139.0      46.000000           19.0     83.0  28.7   \n",
              "294          4.0    161.0      50.000000           29.0    125.0  21.9   \n",
              "231          6.0    134.0      80.000000           37.0    370.0  46.2   \n",
              "..           ...      ...            ...            ...      ...   ...   \n",
              "71           5.0    139.0      64.000000           35.0    140.0  28.6   \n",
              "106          1.0     96.0     122.000000           29.0    125.0  22.4   \n",
              "270         10.0    101.0      86.000000           37.0    125.0  45.6   \n",
              "435          4.0    141.0      72.405184           29.0    125.0  42.4   \n",
              "102          4.0    125.0      96.000000           29.0    125.0  22.5   \n",
              "\n",
              "     DiabetesPedigreeFunction  Age  \n",
              "60                      0.304   21  \n",
              "618                     1.282   50  \n",
              "346                     0.654   22  \n",
              "294                     0.254   65  \n",
              "231                     0.238   46  \n",
              "..                        ...  ...  \n",
              "71                      0.411   26  \n",
              "106                     0.207   27  \n",
              "270                     1.136   38  \n",
              "435                     0.205   29  \n",
              "102                     0.262   21  \n",
              "\n",
              "[614 rows x 8 columns]"
            ]
          },
          "execution_count": 36,
          "metadata": {},
          "output_type": "execute_result"
        }
      ],
      "source": [
        "x_train"
      ]
    },
    {
      "cell_type": "code",
      "execution_count": null,
      "id": "27646fac",
      "metadata": {
        "id": "27646fac",
        "outputId": "cff80f92-c1f0-4ac9-88f1-101a641b7fd4"
      },
      "outputs": [
        {
          "data": {
            "text/plain": [
              "60     0\n",
              "618    1\n",
              "346    0\n",
              "294    0\n",
              "231    1\n",
              "      ..\n",
              "71     0\n",
              "106    0\n",
              "270    1\n",
              "435    1\n",
              "102    0\n",
              "Name: Outcome, Length: 614, dtype: int64"
            ]
          },
          "execution_count": 37,
          "metadata": {},
          "output_type": "execute_result"
        }
      ],
      "source": [
        "y_train"
      ]
    },
    {
      "cell_type": "markdown",
      "id": "313f1858",
      "metadata": {
        "id": "313f1858"
      },
      "source": [
        "# Logistic regression"
      ]
    },
    {
      "cell_type": "code",
      "execution_count": null,
      "id": "d9ab5c8b",
      "metadata": {
        "id": "d9ab5c8b"
      },
      "outputs": [],
      "source": [
        "from sklearn.linear_model import LogisticRegression"
      ]
    },
    {
      "cell_type": "code",
      "execution_count": null,
      "id": "348e9999",
      "metadata": {
        "id": "348e9999"
      },
      "outputs": [],
      "source": [
        "lr = LogisticRegression()"
      ]
    },
    {
      "cell_type": "code",
      "execution_count": null,
      "id": "e5678ec5",
      "metadata": {
        "id": "e5678ec5",
        "outputId": "4121d3a4-bdd5-4a05-b223-48a9982bb490"
      },
      "outputs": [
        {
          "name": "stderr",
          "output_type": "stream",
          "text": [
            "C:\\Users\\User\\anaconda3\\lib\\site-packages\\sklearn\\linear_model\\_logistic.py:814: ConvergenceWarning: lbfgs failed to converge (status=1):\n",
            "STOP: TOTAL NO. of ITERATIONS REACHED LIMIT.\n",
            "\n",
            "Increase the number of iterations (max_iter) or scale the data as shown in:\n",
            "    https://scikit-learn.org/stable/modules/preprocessing.html\n",
            "Please also refer to the documentation for alternative solver options:\n",
            "    https://scikit-learn.org/stable/modules/linear_model.html#logistic-regression\n",
            "  n_iter_i = _check_optimize_result(\n"
          ]
        },
        {
          "data": {
            "text/plain": [
              "LogisticRegression()"
            ]
          },
          "execution_count": 40,
          "metadata": {},
          "output_type": "execute_result"
        }
      ],
      "source": [
        "lr.fit(x_train,y_train)"
      ]
    },
    {
      "cell_type": "code",
      "execution_count": null,
      "id": "5e590b57",
      "metadata": {
        "id": "5e590b57"
      },
      "outputs": [],
      "source": [
        "from sklearn.metrics import accuracy_score"
      ]
    },
    {
      "cell_type": "code",
      "execution_count": null,
      "id": "08900a32",
      "metadata": {
        "id": "08900a32"
      },
      "outputs": [],
      "source": [
        "y_pred = lr.predict(x_test)"
      ]
    },
    {
      "cell_type": "code",
      "execution_count": null,
      "id": "2840cd3c",
      "metadata": {
        "id": "2840cd3c",
        "outputId": "bfa18524-b703-4945-f8d3-69467004b6cb"
      },
      "outputs": [
        {
          "data": {
            "text/plain": [
              "0.7792207792207793"
            ]
          },
          "execution_count": 43,
          "metadata": {},
          "output_type": "execute_result"
        }
      ],
      "source": [
        "accuracy_score(y_pred,y_test)"
      ]
    },
    {
      "cell_type": "code",
      "execution_count": null,
      "id": "7e98f67f",
      "metadata": {
        "scrolled": true,
        "id": "7e98f67f",
        "outputId": "7f3ee554-1fc3-4920-cf7e-efcdcf497cbe"
      },
      "outputs": [
        {
          "data": {
            "text/plain": [
              "array([[84, 15],\n",
              "       [19, 36]], dtype=int64)"
            ]
          },
          "execution_count": 44,
          "metadata": {},
          "output_type": "execute_result"
        }
      ],
      "source": [
        "from sklearn.metrics import confusion_matrix\n",
        "confusion_matrix(y_test,y_pred)"
      ]
    },
    {
      "cell_type": "code",
      "execution_count": null,
      "id": "c9561a8e",
      "metadata": {
        "id": "c9561a8e"
      },
      "outputs": [],
      "source": [
        "from sklearn.metrics import f1_score\n",
        "from sklearn.metrics import precision_score\n",
        "\n"
      ]
    },
    {
      "cell_type": "code",
      "execution_count": null,
      "id": "34ae4bd4",
      "metadata": {
        "id": "34ae4bd4",
        "outputId": "d1763ffc-5dde-4848-dc37-ed83c288d335"
      },
      "outputs": [
        {
          "data": {
            "text/plain": [
              "0.679245283018868"
            ]
          },
          "execution_count": 46,
          "metadata": {},
          "output_type": "execute_result"
        }
      ],
      "source": [
        "f1_score(y_pred,y_test)\n"
      ]
    },
    {
      "cell_type": "code",
      "execution_count": null,
      "id": "36f50e58",
      "metadata": {
        "id": "36f50e58",
        "outputId": "22d5db2d-1820-451a-c692-a9f4bc4bd7a9"
      },
      "outputs": [
        {
          "data": {
            "text/plain": [
              "0.6545454545454545"
            ]
          },
          "execution_count": 47,
          "metadata": {},
          "output_type": "execute_result"
        }
      ],
      "source": [
        "precision_score(y_pred,y_test)"
      ]
    },
    {
      "cell_type": "markdown",
      "id": "3eb6ca43",
      "metadata": {
        "id": "3eb6ca43"
      },
      "source": [
        "# KNneigbors"
      ]
    },
    {
      "cell_type": "code",
      "execution_count": null,
      "id": "fdf21ed9",
      "metadata": {
        "id": "fdf21ed9"
      },
      "outputs": [],
      "source": [
        "from sklearn.neighbors import KNeighborsClassifier"
      ]
    },
    {
      "cell_type": "code",
      "execution_count": null,
      "id": "d695aced",
      "metadata": {
        "id": "d695aced",
        "outputId": "99d6bc30-6f6e-4a94-a440-a7e5f5ab8369"
      },
      "outputs": [
        {
          "name": "stderr",
          "output_type": "stream",
          "text": [
            "C:\\Users\\User\\anaconda3\\lib\\site-packages\\sklearn\\neighbors\\_classification.py:228: FutureWarning: Unlike other reduction functions (e.g. `skew`, `kurtosis`), the default behavior of `mode` typically preserves the axis it acts along. In SciPy 1.11.0, this behavior will change: the default value of `keepdims` will become False, the `axis` over which the statistic is taken will be eliminated, and the value None will no longer be accepted. Set `keepdims` to True or False to avoid this warning.\n",
            "  mode, _ = stats.mode(_y[neigh_ind, k], axis=1)\n",
            "C:\\Users\\User\\anaconda3\\lib\\site-packages\\sklearn\\neighbors\\_classification.py:228: FutureWarning: Unlike other reduction functions (e.g. `skew`, `kurtosis`), the default behavior of `mode` typically preserves the axis it acts along. In SciPy 1.11.0, this behavior will change: the default value of `keepdims` will become False, the `axis` over which the statistic is taken will be eliminated, and the value None will no longer be accepted. Set `keepdims` to True or False to avoid this warning.\n",
            "  mode, _ = stats.mode(_y[neigh_ind, k], axis=1)\n",
            "C:\\Users\\User\\anaconda3\\lib\\site-packages\\sklearn\\neighbors\\_classification.py:228: FutureWarning: Unlike other reduction functions (e.g. `skew`, `kurtosis`), the default behavior of `mode` typically preserves the axis it acts along. In SciPy 1.11.0, this behavior will change: the default value of `keepdims` will become False, the `axis` over which the statistic is taken will be eliminated, and the value None will no longer be accepted. Set `keepdims` to True or False to avoid this warning.\n",
            "  mode, _ = stats.mode(_y[neigh_ind, k], axis=1)\n",
            "C:\\Users\\User\\anaconda3\\lib\\site-packages\\sklearn\\neighbors\\_classification.py:228: FutureWarning: Unlike other reduction functions (e.g. `skew`, `kurtosis`), the default behavior of `mode` typically preserves the axis it acts along. In SciPy 1.11.0, this behavior will change: the default value of `keepdims` will become False, the `axis` over which the statistic is taken will be eliminated, and the value None will no longer be accepted. Set `keepdims` to True or False to avoid this warning.\n",
            "  mode, _ = stats.mode(_y[neigh_ind, k], axis=1)\n",
            "C:\\Users\\User\\anaconda3\\lib\\site-packages\\sklearn\\neighbors\\_classification.py:228: FutureWarning: Unlike other reduction functions (e.g. `skew`, `kurtosis`), the default behavior of `mode` typically preserves the axis it acts along. In SciPy 1.11.0, this behavior will change: the default value of `keepdims` will become False, the `axis` over which the statistic is taken will be eliminated, and the value None will no longer be accepted. Set `keepdims` to True or False to avoid this warning.\n",
            "  mode, _ = stats.mode(_y[neigh_ind, k], axis=1)\n",
            "C:\\Users\\User\\anaconda3\\lib\\site-packages\\sklearn\\neighbors\\_classification.py:228: FutureWarning: Unlike other reduction functions (e.g. `skew`, `kurtosis`), the default behavior of `mode` typically preserves the axis it acts along. In SciPy 1.11.0, this behavior will change: the default value of `keepdims` will become False, the `axis` over which the statistic is taken will be eliminated, and the value None will no longer be accepted. Set `keepdims` to True or False to avoid this warning.\n",
            "  mode, _ = stats.mode(_y[neigh_ind, k], axis=1)\n",
            "C:\\Users\\User\\anaconda3\\lib\\site-packages\\sklearn\\neighbors\\_classification.py:228: FutureWarning: Unlike other reduction functions (e.g. `skew`, `kurtosis`), the default behavior of `mode` typically preserves the axis it acts along. In SciPy 1.11.0, this behavior will change: the default value of `keepdims` will become False, the `axis` over which the statistic is taken will be eliminated, and the value None will no longer be accepted. Set `keepdims` to True or False to avoid this warning.\n",
            "  mode, _ = stats.mode(_y[neigh_ind, k], axis=1)\n",
            "C:\\Users\\User\\anaconda3\\lib\\site-packages\\sklearn\\neighbors\\_classification.py:228: FutureWarning: Unlike other reduction functions (e.g. `skew`, `kurtosis`), the default behavior of `mode` typically preserves the axis it acts along. In SciPy 1.11.0, this behavior will change: the default value of `keepdims` will become False, the `axis` over which the statistic is taken will be eliminated, and the value None will no longer be accepted. Set `keepdims` to True or False to avoid this warning.\n",
            "  mode, _ = stats.mode(_y[neigh_ind, k], axis=1)\n",
            "C:\\Users\\User\\anaconda3\\lib\\site-packages\\sklearn\\neighbors\\_classification.py:228: FutureWarning: Unlike other reduction functions (e.g. `skew`, `kurtosis`), the default behavior of `mode` typically preserves the axis it acts along. In SciPy 1.11.0, this behavior will change: the default value of `keepdims` will become False, the `axis` over which the statistic is taken will be eliminated, and the value None will no longer be accepted. Set `keepdims` to True or False to avoid this warning.\n",
            "  mode, _ = stats.mode(_y[neigh_ind, k], axis=1)\n",
            "C:\\Users\\User\\anaconda3\\lib\\site-packages\\sklearn\\neighbors\\_classification.py:228: FutureWarning: Unlike other reduction functions (e.g. `skew`, `kurtosis`), the default behavior of `mode` typically preserves the axis it acts along. In SciPy 1.11.0, this behavior will change: the default value of `keepdims` will become False, the `axis` over which the statistic is taken will be eliminated, and the value None will no longer be accepted. Set `keepdims` to True or False to avoid this warning.\n",
            "  mode, _ = stats.mode(_y[neigh_ind, k], axis=1)\n",
            "C:\\Users\\User\\anaconda3\\lib\\site-packages\\sklearn\\neighbors\\_classification.py:228: FutureWarning: Unlike other reduction functions (e.g. `skew`, `kurtosis`), the default behavior of `mode` typically preserves the axis it acts along. In SciPy 1.11.0, this behavior will change: the default value of `keepdims` will become False, the `axis` over which the statistic is taken will be eliminated, and the value None will no longer be accepted. Set `keepdims` to True or False to avoid this warning.\n",
            "  mode, _ = stats.mode(_y[neigh_ind, k], axis=1)\n",
            "C:\\Users\\User\\anaconda3\\lib\\site-packages\\sklearn\\neighbors\\_classification.py:228: FutureWarning: Unlike other reduction functions (e.g. `skew`, `kurtosis`), the default behavior of `mode` typically preserves the axis it acts along. In SciPy 1.11.0, this behavior will change: the default value of `keepdims` will become False, the `axis` over which the statistic is taken will be eliminated, and the value None will no longer be accepted. Set `keepdims` to True or False to avoid this warning.\n",
            "  mode, _ = stats.mode(_y[neigh_ind, k], axis=1)\n"
          ]
        }
      ],
      "source": [
        "m = []\n",
        "n = np.arange(3,15)\n",
        "for k in n:\n",
        "    clf = KNeighborsClassifier(n_neighbors=k)\n",
        "    clf.fit(x_train,y_train)\n",
        "    pred = clf.predict(x_test)\n",
        "    acc = accuracy_score(y_test,pred)\n",
        "    m.append(acc)"
      ]
    },
    {
      "cell_type": "code",
      "execution_count": null,
      "id": "e73ec5c6",
      "metadata": {
        "id": "e73ec5c6",
        "outputId": "e92a736e-d543-4430-918f-b183d0d3784d"
      },
      "outputs": [
        {
          "data": {
            "text/plain": [
              "[0.6753246753246753,\n",
              " 0.7142857142857143,\n",
              " 0.6883116883116883,\n",
              " 0.7012987012987013,\n",
              " 0.6623376623376623,\n",
              " 0.6883116883116883,\n",
              " 0.6818181818181818,\n",
              " 0.7337662337662337,\n",
              " 0.7142857142857143,\n",
              " 0.7402597402597403,\n",
              " 0.7207792207792207,\n",
              " 0.7467532467532467]"
            ]
          },
          "execution_count": 50,
          "metadata": {},
          "output_type": "execute_result"
        }
      ],
      "source": [
        "m"
      ]
    },
    {
      "cell_type": "code",
      "execution_count": null,
      "id": "c0dff477",
      "metadata": {
        "id": "c0dff477",
        "outputId": "acf6fc78-d829-4bac-bf63-a4a706ff4ea2"
      },
      "outputs": [
        {
          "data": {
            "image/png": "[encoded data removed]",
            "text/plain": [
              "<Figure size 640x480 with 1 Axes>"
            ]
          },
          "metadata": {},
          "output_type": "display_data"
        }
      ],
      "source": [
        "plt.plot(n,m,'o-')\n",
        "plt.xlabel('k value')\n",
        "plt.ylabel('accuracy')\n",
        "plt.grid()"
      ]
    },
    {
      "cell_type": "code",
      "execution_count": null,
      "id": "bfd54b26",
      "metadata": {
        "id": "bfd54b26",
        "outputId": "e3a39d71-5ae0-484a-d9d1-5bbc7a1481fd"
      },
      "outputs": [
        {
          "name": "stdout",
          "output_type": "stream",
          "text": [
            "0.7467532467532467\n"
          ]
        },
        {
          "name": "stderr",
          "output_type": "stream",
          "text": [
            "C:\\Users\\User\\anaconda3\\lib\\site-packages\\sklearn\\neighbors\\_classification.py:228: FutureWarning: Unlike other reduction functions (e.g. `skew`, `kurtosis`), the default behavior of `mode` typically preserves the axis it acts along. In SciPy 1.11.0, this behavior will change: the default value of `keepdims` will become False, the `axis` over which the statistic is taken will be eliminated, and the value None will no longer be accepted. Set `keepdims` to True or False to avoid this warning.\n",
            "  mode, _ = stats.mode(_y[neigh_ind, k], axis=1)\n"
          ]
        }
      ],
      "source": [
        "clf = KNeighborsClassifier(n_neighbors=14)\n",
        "clf.fit(x_train,y_train)\n",
        "y_pred_knn = clf.predict(x_test)\n",
        "acc_knn = accuracy_score(y_test,y_pred_knn)\n",
        "print(acc_knn)"
      ]
    },
    {
      "cell_type": "code",
      "execution_count": null,
      "id": "4cbbb7ae",
      "metadata": {
        "id": "4cbbb7ae",
        "outputId": "cad7b064-2d96-44c1-dd0d-f0806dc234d0"
      },
      "outputs": [
        {
          "data": {
            "text/plain": [
              "0.7467532467532467"
            ]
          },
          "execution_count": 90,
          "metadata": {},
          "output_type": "execute_result"
        }
      ],
      "source": [
        "accuracy_score(y_pred_knn,y_test)"
      ]
    },
    {
      "cell_type": "code",
      "execution_count": null,
      "id": "0f891c8f",
      "metadata": {
        "id": "0f891c8f",
        "outputId": "c6dabe52-16c3-4018-ea72-c8d27c5124ef"
      },
      "outputs": [
        {
          "data": {
            "text/plain": [
              "array([[82, 17],\n",
              "       [22, 33]], dtype=int64)"
            ]
          },
          "execution_count": 91,
          "metadata": {},
          "output_type": "execute_result"
        }
      ],
      "source": [
        "confusion_matrix(y_test,y_pred_knn)"
      ]
    },
    {
      "cell_type": "code",
      "execution_count": null,
      "id": "0d89169b",
      "metadata": {
        "id": "0d89169b",
        "outputId": "d9e73dcc-0e08-46a1-c3c4-2a6825efef09"
      },
      "outputs": [
        {
          "data": {
            "text/plain": [
              "0.6285714285714286"
            ]
          },
          "execution_count": 92,
          "metadata": {},
          "output_type": "execute_result"
        }
      ],
      "source": [
        "f1_score(y_pred_knn,y_test)"
      ]
    },
    {
      "cell_type": "code",
      "execution_count": null,
      "id": "843abc41",
      "metadata": {
        "id": "843abc41",
        "outputId": "805e4668-d6ab-4c3a-803e-8bd1c5c104a1"
      },
      "outputs": [
        {
          "data": {
            "text/plain": [
              "0.6"
            ]
          },
          "execution_count": 94,
          "metadata": {},
          "output_type": "execute_result"
        }
      ],
      "source": [
        "precision_score(y_pred_knn,y_test)"
      ]
    },
    {
      "cell_type": "markdown",
      "id": "5ae351dc",
      "metadata": {
        "id": "5ae351dc"
      },
      "source": [
        "# SVC"
      ]
    },
    {
      "cell_type": "code",
      "execution_count": null,
      "id": "228fa121",
      "metadata": {
        "id": "228fa121"
      },
      "outputs": [],
      "source": [
        "from sklearn.svm import SVC"
      ]
    },
    {
      "cell_type": "code",
      "execution_count": null,
      "id": "920378d6",
      "metadata": {
        "id": "920378d6"
      },
      "outputs": [],
      "source": [
        "sv = SVC()"
      ]
    },
    {
      "cell_type": "code",
      "execution_count": null,
      "id": "67b5d30f",
      "metadata": {
        "id": "67b5d30f",
        "outputId": "a6511c98-174b-4d1a-a487-0be26b250615"
      },
      "outputs": [
        {
          "name": "stdout",
          "output_type": "stream",
          "text": [
            "0.7467532467532467\n"
          ]
        }
      ],
      "source": [
        "sv.fit(x_train,y_train)\n",
        "y_pred_sv = sv.predict(x_test)\n",
        "acc_sv = accuracy_score(y_test,y_pred_knn)\n",
        "print(acc_sv)"
      ]
    },
    {
      "cell_type": "code",
      "execution_count": null,
      "id": "402950a1",
      "metadata": {
        "id": "402950a1",
        "outputId": "826ee21f-8ee6-41f4-f6db-a36e2b1cca57"
      },
      "outputs": [
        {
          "data": {
            "text/plain": [
              "0.7597402597402597"
            ]
          },
          "execution_count": 89,
          "metadata": {},
          "output_type": "execute_result"
        }
      ],
      "source": [
        "accuracy_score(y_pred_sv,y_test)"
      ]
    },
    {
      "cell_type": "code",
      "execution_count": null,
      "id": "6077b6a9",
      "metadata": {
        "id": "6077b6a9",
        "outputId": "703339b2-8820-4aef-af5e-1292b9cc0516"
      },
      "outputs": [
        {
          "data": {
            "text/plain": [
              "array([[86, 13],\n",
              "       [24, 31]], dtype=int64)"
            ]
          },
          "execution_count": 88,
          "metadata": {},
          "output_type": "execute_result"
        }
      ],
      "source": [
        "confusion_matrix(y_test,y_pred_sv)"
      ]
    },
    {
      "cell_type": "code",
      "execution_count": null,
      "id": "b668a4bb",
      "metadata": {
        "id": "b668a4bb",
        "outputId": "dd27f024-21eb-4c35-e1f6-0a2353adb65b"
      },
      "outputs": [
        {
          "data": {
            "text/plain": [
              "0.6262626262626263"
            ]
          },
          "execution_count": 87,
          "metadata": {},
          "output_type": "execute_result"
        }
      ],
      "source": [
        "f1_score(y_pred_sv,y_test)"
      ]
    },
    {
      "cell_type": "code",
      "execution_count": null,
      "id": "546a3128",
      "metadata": {
        "id": "546a3128",
        "outputId": "2c1e7f06-7dc6-4477-e9de-5b84cc59f4be"
      },
      "outputs": [
        {
          "data": {
            "text/plain": [
              "0.5636363636363636"
            ]
          },
          "execution_count": 86,
          "metadata": {},
          "output_type": "execute_result"
        }
      ],
      "source": [
        "precision_score(y_pred_sv,y_test)"
      ]
    },
    {
      "cell_type": "markdown",
      "id": "7eb3371a",
      "metadata": {
        "id": "7eb3371a"
      },
      "source": [
        "# DesicionTree"
      ]
    },
    {
      "cell_type": "code",
      "execution_count": null,
      "id": "c4772da2",
      "metadata": {
        "id": "c4772da2"
      },
      "outputs": [],
      "source": [
        "from sklearn.tree import DecisionTreeClassifier"
      ]
    },
    {
      "cell_type": "code",
      "execution_count": null,
      "id": "93fcdf13",
      "metadata": {
        "id": "93fcdf13"
      },
      "outputs": [],
      "source": [
        "dt = DecisionTreeClassifier()"
      ]
    },
    {
      "cell_type": "code",
      "execution_count": null,
      "id": "59c5cfbd",
      "metadata": {
        "id": "59c5cfbd",
        "outputId": "7bf8a225-07a1-486a-c1eb-fed4f946ae36"
      },
      "outputs": [
        {
          "name": "stdout",
          "output_type": "stream",
          "text": [
            "0.7467532467532467\n"
          ]
        }
      ],
      "source": [
        "dt.fit(x_train,y_train)\n",
        "y_pred_dt = dt.predict(x_test)\n",
        "acc_dt = accuracy_score(y_test,y_pred_knn)\n",
        "print(acc_dt)"
      ]
    },
    {
      "cell_type": "code",
      "execution_count": null,
      "id": "7ddc30f7",
      "metadata": {
        "id": "7ddc30f7",
        "outputId": "4b7c6705-6e0e-4ae9-c7de-ee3237bf73a0"
      },
      "outputs": [
        {
          "data": {
            "text/plain": [
              "0.7077922077922078"
            ]
          },
          "execution_count": 85,
          "metadata": {},
          "output_type": "execute_result"
        }
      ],
      "source": [
        "accuracy_score(y_pred_dt,y_test)"
      ]
    },
    {
      "cell_type": "code",
      "execution_count": null,
      "id": "81ad34b9",
      "metadata": {
        "id": "81ad34b9",
        "outputId": "2ad321d5-9982-4d44-9d35-720e81a5e981"
      },
      "outputs": [
        {
          "data": {
            "text/plain": [
              "array([[75, 24],\n",
              "       [21, 34]], dtype=int64)"
            ]
          },
          "execution_count": 84,
          "metadata": {},
          "output_type": "execute_result"
        }
      ],
      "source": [
        "confusion_matrix(y_test,y_pred_dt)"
      ]
    },
    {
      "cell_type": "code",
      "execution_count": null,
      "id": "6e6049e7",
      "metadata": {
        "id": "6e6049e7",
        "outputId": "5967e084-8240-44d4-8202-8be96242bbf7"
      },
      "outputs": [
        {
          "data": {
            "text/plain": [
              "0.6017699115044246"
            ]
          },
          "execution_count": 83,
          "metadata": {},
          "output_type": "execute_result"
        }
      ],
      "source": [
        "f1_score(y_pred_dt,y_test)"
      ]
    },
    {
      "cell_type": "code",
      "execution_count": null,
      "id": "81d679f7",
      "metadata": {
        "id": "81d679f7",
        "outputId": "e8acefc5-761f-48f9-d4df-02db5275b37d"
      },
      "outputs": [
        {
          "data": {
            "text/plain": [
              "0.6181818181818182"
            ]
          },
          "execution_count": 82,
          "metadata": {},
          "output_type": "execute_result"
        }
      ],
      "source": [
        "precision_score(y_pred_dt,y_test)"
      ]
    },
    {
      "cell_type": "markdown",
      "id": "5352a5e1",
      "metadata": {
        "id": "5352a5e1"
      },
      "source": [
        "# RandomForest"
      ]
    },
    {
      "cell_type": "code",
      "execution_count": null,
      "id": "cd773d46",
      "metadata": {
        "id": "cd773d46"
      },
      "outputs": [],
      "source": [
        "from sklearn.ensemble import RandomForestClassifier"
      ]
    },
    {
      "cell_type": "code",
      "execution_count": null,
      "id": "8c4abde7",
      "metadata": {
        "id": "8c4abde7"
      },
      "outputs": [],
      "source": [
        "rf = RandomForestClassifier()"
      ]
    },
    {
      "cell_type": "code",
      "execution_count": null,
      "id": "4f5eb514",
      "metadata": {
        "id": "4f5eb514",
        "outputId": "df954864-2cc7-412b-80f8-a4b7b18e46a4"
      },
      "outputs": [
        {
          "name": "stdout",
          "output_type": "stream",
          "text": [
            "0.7467532467532467\n"
          ]
        }
      ],
      "source": [
        "rf.fit(x_train,y_train)\n",
        "y_pred_rf = rf.predict(x_test)\n",
        "acc_rf = accuracy_score(y_test,y_pred_knn)\n",
        "print(acc_rf)"
      ]
    },
    {
      "cell_type": "code",
      "execution_count": null,
      "id": "57736cdc",
      "metadata": {
        "id": "57736cdc",
        "outputId": "6509cea5-39cf-4165-aaa7-4b7de485a9b9"
      },
      "outputs": [
        {
          "data": {
            "text/plain": [
              "0.7402597402597403"
            ]
          },
          "execution_count": 81,
          "metadata": {},
          "output_type": "execute_result"
        }
      ],
      "source": [
        "accuracy_score(y_pred_rf,y_test)"
      ]
    },
    {
      "cell_type": "code",
      "execution_count": null,
      "id": "8b089b16",
      "metadata": {
        "id": "8b089b16",
        "outputId": "63e0c1ee-e2ae-4dcc-d18c-d84bacf61c0d"
      },
      "outputs": [
        {
          "data": {
            "text/plain": [
              "array([[78, 21],\n",
              "       [19, 36]], dtype=int64)"
            ]
          },
          "execution_count": 80,
          "metadata": {},
          "output_type": "execute_result"
        }
      ],
      "source": [
        "confusion_matrix(y_test,y_pred_rf)"
      ]
    },
    {
      "cell_type": "code",
      "execution_count": null,
      "id": "eb8ec7d3",
      "metadata": {
        "id": "eb8ec7d3",
        "outputId": "39fcded4-17b2-4b45-8612-df1544f4c67e"
      },
      "outputs": [
        {
          "data": {
            "text/plain": [
              "0.6428571428571428"
            ]
          },
          "execution_count": 79,
          "metadata": {},
          "output_type": "execute_result"
        }
      ],
      "source": [
        "f1_score(y_pred_rf,y_test)"
      ]
    },
    {
      "cell_type": "code",
      "execution_count": null,
      "id": "28640544",
      "metadata": {
        "id": "28640544",
        "outputId": "5a980b84-56eb-4996-8c58-2c2f490dfb41"
      },
      "outputs": [
        {
          "data": {
            "text/plain": [
              "0.6545454545454545"
            ]
          },
          "execution_count": 78,
          "metadata": {},
          "output_type": "execute_result"
        }
      ],
      "source": [
        "precision_score(y_pred_rf,y_test)"
      ]
    },
    {
      "cell_type": "markdown",
      "id": "2f3feb16",
      "metadata": {
        "id": "2f3feb16"
      },
      "source": [
        "# Best Classification model is LogisticRegressionModel"
      ]
    },
    {
      "cell_type": "code",
      "execution_count": null,
      "id": "26096b13",
      "metadata": {
        "id": "26096b13"
      },
      "outputs": [],
      "source": []
    }
  ],
  "metadata": {
    "kernelspec": {
      "display_name": "Python 3 (ipykernel)",
      "language": "python",
      "name": "python3"
    },
    "language_info": {
      "codemirror_mode": {
        "name": "ipython",
        "version": 3
      },
      "file_extension": ".py",
      "mimetype": "text/x-python",
      "name": "python",
      "nbconvert_exporter": "python",
      "pygments_lexer": "ipython3",
      "version": "3.9.13"
    },
    "colab": {
      "provenance": []
    }
  },
  "nbformat": 4,
  "nbformat_minor": 5
}